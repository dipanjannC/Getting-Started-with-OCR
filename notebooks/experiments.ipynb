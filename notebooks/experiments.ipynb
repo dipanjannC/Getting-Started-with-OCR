{
 "cells": [
  {
   "cell_type": "code",
   "execution_count": 17,
   "metadata": {},
   "outputs": [
    {
     "name": "stdout",
     "output_type": "stream",
     "text": [
      "ADtan\n",
      "CELAACOR ToriCCCR Coaroaitior\n",
      "INTErNAL COrrESPONDENCE\n",
      "FREEPNA\n",
      "Scholll\n",
      "FrOM SUBJECT\n",
      "WlLets Meb Audtted Sampline\n",
      "DATE _ 427B\n",
      "Attached for yout review i8 copy Df the Audited training manual for the KSL job_ Note that we changed the title to further emphasize the {mportance reaching adults only\n",
      "hJ E.4.W.-\n",
      "PursU-GCNFDEURF ORoer\n",
      "046581 170010920\n"
     ]
    }
   ],
   "source": [
    "import easyocr\n",
    "from pathlib import Path\n",
    "import os\n",
    "\n",
    "directory = Path(os.path.abspath('')).parents[0]\n",
    "temp_data_dir = os.path.join(directory,\"data/temp\")\n",
    "sample_data_dir = os.path.join(directory,\"data/rvl_cdip_1000_samples\")\n",
    "\n",
    "image_path = os.path.join(sample_data_dir,\"15/image_0863.png\")\n",
    "\n",
    "# reader = easyocr.Reader(['en'], detection='DB', recognition = 'Transformer')\n",
    "# reader = easyocr.Reader(['en'],gpu= True) # this needs to run only once to load the model into memory\n",
    "result = reader.readtext(image_path,detail=0,paragraph=True)\n",
    "\n",
    "for line in result:\n",
    "    print(line)"
   ]
  },
  {
   "cell_type": "code",
   "execution_count": null,
   "metadata": {},
   "outputs": [],
   "source": []
  }
 ],
 "metadata": {
  "kernelspec": {
   "display_name": ".venv",
   "language": "python",
   "name": "python3"
  },
  "language_info": {
   "codemirror_mode": {
    "name": "ipython",
    "version": 3
   },
   "file_extension": ".py",
   "mimetype": "text/x-python",
   "name": "python",
   "nbconvert_exporter": "python",
   "pygments_lexer": "ipython3",
   "version": "3.11.6"
  }
 },
 "nbformat": 4,
 "nbformat_minor": 2
}
